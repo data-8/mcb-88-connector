{
 "cells": [
  {
   "cell_type": "markdown",
   "metadata": {},
   "source": [
    "# Lab 7: The Cancer Genome"
   ]
  },
  {
   "cell_type": "code",
   "execution_count": null,
   "metadata": {},
   "outputs": [],
   "source": [
    "# imports\n",
    "from datascience import Table\n",
    "import matplotlib\n",
    "matplotlib.use('Agg')\n",
    "from datascience import Table\n",
    "%matplotlib inline\n",
    "import matplotlib.pyplot as plt\n",
    "import numpy as np\n",
    "plt.style.use('fivethirtyeight')\n",
    "from sklearn.cluster import KMeans"
   ]
  },
  {
   "cell_type": "markdown",
   "metadata": {},
   "source": [
    "In this lab, we will be exploring mutational signatures. A **mutational signature** is a collection of mutations that can categorize and define specific cancer types. Today, we will specifically explore mutational signatures that are linked to smoking tobacco. Information from this lab was taken from the paper https://www.nature.com/articles/nature12477.pdf."
   ]
  },
  {
   "cell_type": "markdown",
   "metadata": {},
   "source": [
    "## Part 1\n",
    "\n",
    "For part 1 of the lab, we will compare the difference in mutation rates between smokers and nonsmokers in three different types of cancer. Data from this lab was extracted from http://cancer.sanger.ac.uk/cosmic/signatures.\n",
    "\n",
    "First, let's load in the first dataset. "
   ]
  },
  {
   "cell_type": "code",
   "execution_count": null,
   "metadata": {},
   "outputs": [],
   "source": [
    "# load in data for part 1\n",
    "table = Table.read_table('https://raw.githubusercontent.com/data-8/mcb-88-connector/gh-pages/data/lab7/Table_S2_all_cancers.csv')\n",
    "\n",
    "\n",
    "## Because we will be creating complex plots, we will use dataframes for these exercises.\n",
    "## convert to dataframe\n",
    "dataframe = table.to_df()\n",
    "\n",
    "dataframe"
   ]
  },
  {
   "cell_type": "markdown",
   "metadata": {},
   "source": [
    "### What's in the table?\n",
    "\n",
    "This table contains mutation rates in three different cancer types. We also include mutation rates for 'All cancer types'. Mutation rates are measured in mutations per MB (megabase). \n",
    "\n",
    "The second column of our data table tells us what feature the mutation counts are from. For example, we can count the mean mutations in 'All Cancer Types' from Signature 1. We can also count the mutations that consist of a C -> T substitution from a specific cancer (i.e. larynx).\n",
    "\n",
    "The 3rd and 4th columns tell us the mean and standard error for the mutation rates in **non-smokers** found for each (cancer type, mutation type) pair. The 5th and 6th columns tell us the mean and standard error for the mutation counts found in **smokers** for each (caner type, mutation type) pair.\n",
    "\n",
    "First, let's answer some questions about the dataset.\n",
    "\n",
    "\n",
    "\n"
   ]
  },
  {
   "cell_type": "markdown",
   "metadata": {},
   "source": [
    "<h2 style=\"color:red\">** Question 1**:</h2> \n",
    "What are the three cancer types that we have data for in this table?"
   ]
  },
  {
   "cell_type": "markdown",
   "metadata": {},
   "source": [
    "---\n",
    "## <span style=\"color:red\">Student Answer</span>\n",
    "\n",
    "*Double-click and add your answer between the lines*\n",
    "\n",
    "---\n"
   ]
  },
  {
   "cell_type": "markdown",
   "metadata": {},
   "source": [
    "<h2 style=\"color:red\">** Question 2**:</h2> \n",
    "What are the signatures that we have mutation rates for in this table? "
   ]
  },
  {
   "cell_type": "markdown",
   "metadata": {},
   "source": [
    "---\n",
    "## <span style=\"color:red\">Student Answer</span>\n",
    "\n",
    "*Double-click and add your answer between the lines*\n",
    "\n",
    "---"
   ]
  },
  {
   "cell_type": "markdown",
   "metadata": {},
   "source": [
    "### Plotting the Data\n",
    "\n",
    "Next, we will plot the mutation rate (substitution) means and signature means for each cancer category provided in the table. First, we will plot information for all cancer types. Pay close attention to the code, as you will be plotting a similar figure for the remaining three cancer types as an exercise.\n",
    "\n",
    "First, let's filter by Cancer Type to subselect information for 'All Cancer Types'."
   ]
  },
  {
   "cell_type": "code",
   "execution_count": null,
   "metadata": {},
   "outputs": [],
   "source": [
    "## filter out for 'All Cancer Types'\n",
    "allCancers = dataframe[dataframe['Cancer Type'] == 'All Cancer Types']\n",
    "\n",
    "## show result\n",
    "allCancers"
   ]
  },
  {
   "cell_type": "markdown",
   "metadata": {},
   "source": [
    "<h2 style=\"color:red\">** Question 3**:</h2> \n",
    "For the remaining three cancer types, create a new variable for each cancer type and filter by cancer type. "
   ]
  },
  {
   "cell_type": "code",
   "execution_count": null,
   "metadata": {},
   "outputs": [],
   "source": [
    "# YOUR CODE HERE\n",
    "raise NotImplementedError()\n"
   ]
  },
  {
   "cell_type": "markdown",
   "metadata": {},
   "source": [
    "Now, let's gather information for all signature mutation rates in all cancer types. We will create two dataframes: one will contain the mean mutation rates for smokers and non-smokers, and the other will contain standard error for the mean mutation rates of smokers and non-smokers. We will use these dataframes to plot the distributions of signatures found in smokers and non-smokers."
   ]
  },
  {
   "cell_type": "code",
   "execution_count": null,
   "metadata": {},
   "outputs": [],
   "source": [
    "\n",
    "############################# Gather Signature Information for 'All Cancer Types' ################################\n",
    "\n",
    "# filter out for signatures only\n",
    "allCancers_signatures = allCancers[allCancers['Feature'].str.contains(\"Signature\")]\n",
    "\n",
    "# get signature means\n",
    "signature_means = allCancers_signatures[['Feature', 'Non-smokers-Mean', 'Smokers-Mean']].set_index(['Feature'])\n",
    "\n",
    "# get signature std error \n",
    "signature_stdErr = allCancers_signatures[['Feature','Non-smokers-StdErr', 'Smokers-StdErr']].set_index(['Feature'])\n",
    "\n",
    "# rename std error means to match mean column names\n",
    "signature_stdErr.columns = ['Non-smokers-Mean', 'Smokers-Mean']\n"
   ]
  },
  {
   "cell_type": "markdown",
   "metadata": {},
   "source": [
    "Now, let's gather information for all **substitution** mutation counts. We will use these dataframes to plot the distributions of mutation types found in smokers and non-smokers."
   ]
  },
  {
   "cell_type": "code",
   "execution_count": null,
   "metadata": {},
   "outputs": [],
   "source": [
    "############################# Gather Substitution Information for 'All Cancer Types' ################################\n",
    "# filter out for substitutions only\n",
    "allCancers_substitutions = allCancers[allCancers['Feature'].str.contains(\"substitutions\")]\n",
    "\n",
    "# get substitution means\n",
    "substitution_means = allCancers_substitutions[['Feature', 'Non-smokers-Mean', 'Smokers-Mean']].set_index(['Feature'])\n",
    "\n",
    "# get substitution std error\n",
    "substitution_stdErr = allCancers_substitutions[['Feature','Non-smokers-StdErr', 'Smokers-StdErr']].set_index(['Feature'])\n",
    "\n",
    "# rename std error means to match mean column names\n",
    "substitution_stdErr.columns = ['Non-smokers-Mean', 'Smokers-Mean']"
   ]
  },
  {
   "cell_type": "markdown",
   "metadata": {},
   "source": [
    "Now, let's plot both the signature means and substitutional means along with the standard error. We will plot these two plots in a subplot so we can easily view them next to eachother. We will use the **stdErr** dataframes to add error bars to our plots."
   ]
  },
  {
   "cell_type": "code",
   "execution_count": null,
   "metadata": {},
   "outputs": [],
   "source": [
    "########################## plot the data in a double bar chart ########################################\n",
    "\n",
    "# create a new subplot for substitution and mutations\n",
    "fig, axes = plt.subplots(nrows=1, ncols=2)\n",
    "\n",
    "# plot signatures in the 1st column\n",
    "signature_means.plot(kind='bar', yerr=signature_stdErr, ax=axes[0], figsize=[15,4])\n",
    "\n",
    "# plot substitutions in the 2nd column\n",
    "substitution_means.plot(kind='bar', yerr=substitution_stdErr, ax=axes[1], figsize=[15,4])\n"
   ]
  },
  {
   "cell_type": "markdown",
   "metadata": {},
   "source": [
    "<h2 style=\"color:red\">** Question 4**:</h2> \n",
    " Plot the substitutions and signature means and standard error in a subplot for **lung adenocarcinoma**. Refer to the code above as an example."
   ]
  },
  {
   "cell_type": "code",
   "execution_count": null,
   "metadata": {},
   "outputs": [],
   "source": [
    "# YOUR CODE HERE\n",
    "raise NotImplementedError()"
   ]
  },
  {
   "cell_type": "markdown",
   "metadata": {},
   "source": [
    "<h2 style=\"color:red\">** Question 5**:</h2> \n",
    " Plot the substitutions and signature means and standard error in a subplot for lung squamous."
   ]
  },
  {
   "cell_type": "code",
   "execution_count": null,
   "metadata": {},
   "outputs": [],
   "source": [
    "# YOUR CODE HERE\n",
    "raise NotImplementedError()"
   ]
  },
  {
   "cell_type": "markdown",
   "metadata": {},
   "source": [
    "<h2 style=\"color:red\">** Question 6**:</h2> \n",
    " Plot the substitutions and signature means and standard error in a subplot for larynx cancer."
   ]
  },
  {
   "cell_type": "code",
   "execution_count": null,
   "metadata": {},
   "outputs": [],
   "source": [
    "# YOUR CODE HERE\n",
    "raise NotImplementedError()"
   ]
  },
  {
   "cell_type": "markdown",
   "metadata": {},
   "source": [
    "**Questions 7-11** are based off results from the 4 graphs above.\n",
    "\n",
    "<h2 style=\"color:red\">** Question 7**:</h2> \n",
    " What is the signature with the highest mean mutations in each category? You should have four answers, one for each cancer type and one for 'All Cancer types'."
   ]
  },
  {
   "cell_type": "markdown",
   "metadata": {},
   "source": [
    "---\n",
    "## <span style=\"color:red\">Student Answer</span>\n",
    "\n",
    "*Double-click and add your answer between the lines*\n",
    "\n",
    "---\n"
   ]
  },
  {
   "cell_type": "markdown",
   "metadata": {},
   "source": [
    "<h2 style=\"color:red\">** Question 8**:</h2> \n",
    "What is the mutation (substitution) type with the highest mean in each category?"
   ]
  },
  {
   "cell_type": "markdown",
   "metadata": {},
   "source": [
    "---\n",
    "## <span style=\"color:red\">Student Answer</span>\n",
    "\n",
    "*Double-click and add your answer between the lines*\n",
    "\n",
    "---"
   ]
  },
  {
   "cell_type": "markdown",
   "metadata": {},
   "source": [
    "<h2 style=\"color:red\">** Question 9**:</h2> \n",
    "Look at the mutations that are most prevalent in cancer types with signature 4 as the highest mean mutation. Are the most prevalent mutation types for these cancer types similar? If so, what are they?"
   ]
  },
  {
   "cell_type": "markdown",
   "metadata": {},
   "source": [
    "---\n",
    "## <span style=\"color:red\">Student Answer</span>\n",
    "\n",
    "*Double-click and add your answer between the lines*\n",
    "\n",
    "---"
   ]
  },
  {
   "cell_type": "markdown",
   "metadata": {},
   "source": [
    "<h2 style=\"color:red\">** Question 10**:</h2> \n",
    "Are there any noticeable differences in the signature distributions found in smokers and nonsmokers in these plots? If so, what are they?\n",
    "\n",
    "I.e. Think about the following example questions:\n",
    "- Which signatures are the most different between smokers and nonsmokers?\n",
    "- Is there less variation between smokers and non smokers in any of the cancers?"
   ]
  },
  {
   "cell_type": "markdown",
   "metadata": {},
   "source": [
    "---\n",
    "## <span style=\"color:red\">Student Answer</span>\n",
    "\n",
    "*Double-click and add your answer between the lines*\n",
    "\n",
    "---"
   ]
  },
  {
   "cell_type": "markdown",
   "metadata": {},
   "source": [
    "## Part 2: Signature Exploration"
   ]
  },
  {
   "cell_type": "markdown",
   "metadata": {
    "collapsed": true
   },
   "source": [
    "In part 2 of this lab, we will be plotting the frequencies of different mutations found in each signature. We will focus on signatures 2, 4, 5, and 13."
   ]
  },
  {
   "cell_type": "code",
   "execution_count": null,
   "metadata": {
    "scrolled": true
   },
   "outputs": [],
   "source": [
    "# Load in data for muations and signatures\n",
    "signatures = Table.read_table('https://raw.githubusercontent.com/data-8/mcb-88-connector/gh-pages/data/lab7/Table_S5_features_tobacco_smokers.csv').to_df()\n",
    "# Show the table\n",
    "signatures"
   ]
  },
  {
   "cell_type": "markdown",
   "metadata": {},
   "source": [
    "In this table, the first column denotes the mutation. For example, 'C>A' denotes a C mutated to an A. The column labeled **Context** denotes the base pairs surrounding the mutation. The next four columns indicate the probability of each mutation is in signatures 1,4,5 and 13, respectively. The last column indicates the probability of mutations in an in vitro DNA sample treated with B[a]P, or the chemical benzo[a]pyrene.\n",
    "\n",
    "\n",
    "For the next exercises, we will be plotting the mutational probabilities from each signature in the table. First, let's plot the mutation probabilities of signature 2."
   ]
  },
  {
   "cell_type": "code",
   "execution_count": null,
   "metadata": {},
   "outputs": [],
   "source": [
    "# Filter data for signature 2 and set x index to Mutation name\n",
    "sig_2 = signatures[['Mutation', 'Signature 2']].set_index('Mutation')\n",
    "sig_2"
   ]
  },
  {
   "cell_type": "code",
   "execution_count": null,
   "metadata": {},
   "outputs": [],
   "source": [
    "# plot signature 2\n",
    "\n",
    "sig_2.plot(kind='bar', figsize=[20,5])"
   ]
  },
  {
   "cell_type": "markdown",
   "metadata": {},
   "source": [
    "<h2 style=\"color:red\">** Question 11**:</h2> \n",
    " What type of mutation seems to be the most prevalent for signature 2?"
   ]
  },
  {
   "cell_type": "markdown",
   "metadata": {},
   "source": [
    "---\n",
    "## <span style=\"color:red\">Student Answer</span>\n",
    "\n",
    "*Double-click and add your answer between the lines*\n",
    "\n",
    "---"
   ]
  },
  {
   "cell_type": "markdown",
   "metadata": {},
   "source": [
    "Visit <a href=\"http://cancer.sanger.ac.uk/cosmic/signatures\" target=\"_blank\">the Cosmic Database</a> and scroll down to the section and plots for each signature and look for Signature 2. Answer the following questions about Signature 2."
   ]
  },
  {
   "cell_type": "markdown",
   "metadata": {},
   "source": [
    "<h2 style=\"color:red\">** Question 12**:</h2> \n",
    "What other signature is often found in samples containing signature 2?"
   ]
  },
  {
   "cell_type": "markdown",
   "metadata": {},
   "source": [
    "---\n",
    "## <span style=\"color:red\">Student Answer</span>\n",
    "\n",
    "*Double-click and add your answer between the lines*\n",
    "\n",
    "---"
   ]
  },
  {
   "cell_type": "markdown",
   "metadata": {},
   "source": [
    "<h2 style=\"color:red\">** Question 13**:</h2> \n",
    "The description of signature 2 indicates that a polymorphism in specific genes leads to greater presence of signature 2. Which genes are these? Given what we discussed in lecture, how are these proteins from the listed genes playing a role in mutational murden of signature 2?"
   ]
  },
  {
   "cell_type": "markdown",
   "metadata": {
    "collapsed": true
   },
   "source": [
    "---\n",
    "## <span style=\"color:red\">Student Answer</span>\n",
    "\n",
    "*Double-click and add your answer between the lines*\n",
    "\n",
    "---"
   ]
  },
  {
   "cell_type": "markdown",
   "metadata": {},
   "source": [
    "<h2 style=\"color:red\">** Question 14**:</h2> \n",
    " Plot the mutation distribution for signature 5."
   ]
  },
  {
   "cell_type": "code",
   "execution_count": null,
   "metadata": {},
   "outputs": [],
   "source": [
    "# YOUR CODE HERE\n",
    "raise NotImplementedError()"
   ]
  },
  {
   "cell_type": "markdown",
   "metadata": {},
   "source": [
    "<h2 style=\"color:red\">** Question 15**:</h2> \n",
    "What type of mutation is most prevalent in signature 5?"
   ]
  },
  {
   "cell_type": "markdown",
   "metadata": {
    "collapsed": true
   },
   "source": [
    "---\n",
    "## <span style=\"color:red\">Student Answer</span>\n",
    "\n",
    "*Double-click and add your answer between the lines*\n",
    "\n",
    "---"
   ]
  },
  {
   "cell_type": "markdown",
   "metadata": {},
   "source": [
    "<h2 style=\"color:red\">** Question 16**:</h2> \n",
    "Plot the mutation distribution for signature 13."
   ]
  },
  {
   "cell_type": "code",
   "execution_count": null,
   "metadata": {},
   "outputs": [],
   "source": [
    "# YOUR CODE HERE\n",
    "raise NotImplementedError()"
   ]
  },
  {
   "cell_type": "markdown",
   "metadata": {},
   "source": [
    "<h2 style=\"color:red\">** Question 17**:</h2> \n",
    "What type of mutation seems to be the highest for signature 13?"
   ]
  },
  {
   "cell_type": "markdown",
   "metadata": {
    "collapsed": true
   },
   "source": [
    "---\n",
    "## <span style=\"color:red\">Student Answer</span>\n",
    "\n",
    "*Double-click and add your answer between the lines*\n",
    "\n",
    "---"
   ]
  },
  {
   "cell_type": "markdown",
   "metadata": {},
   "source": [
    "<h2 style=\"color:red\">** Question 18**:</h2> \n",
    "Plot the mutation distribution for signature 4."
   ]
  },
  {
   "cell_type": "code",
   "execution_count": null,
   "metadata": {},
   "outputs": [],
   "source": [
    "# YOUR CODE HERE\n",
    "raise NotImplementedError()"
   ]
  },
  {
   "cell_type": "markdown",
   "metadata": {},
   "source": [
    "<h2 style=\"color:red\">** Question 19**:</h2> \n",
    "What type of mutation seems to be the highest for signature 4?"
   ]
  },
  {
   "cell_type": "markdown",
   "metadata": {
    "collapsed": true
   },
   "source": [
    "---\n",
    "## <span style=\"color:red\">Student Answer</span>\n",
    "\n",
    "*Double-click and add your answer between the lines*\n",
    "\n",
    "---"
   ]
  },
  {
   "cell_type": "markdown",
   "metadata": {},
   "source": [
    "Visit <a href=\"http://cancer.sanger.ac.uk/cosmic/signatures\" target=\"_blank\">the Cosmic Database</a> and answer the following questions about Signature 4."
   ]
  },
  {
   "cell_type": "markdown",
   "metadata": {},
   "source": [
    "<h2 style=\"color:red\">** Question 20**:</h2> \n",
    "What cancer types is signature 4 associated with?"
   ]
  },
  {
   "cell_type": "markdown",
   "metadata": {},
   "source": [
    "---\n",
    "## <span style=\"color:red\">Student Answer</span>\n",
    "\n",
    "*Double-click and add your answer between the lines*\n",
    "\n",
    "---"
   ]
  },
  {
   "cell_type": "markdown",
   "metadata": {},
   "source": [
    "<h2 style=\"color:red\">** Question 21**:</h2> \n",
    "What are the mutational biases that signature 4 is known for that is mentioned on the cosmic signatures web page? Is this reflected in the mutations graphed above for signature 4?"
   ]
  },
  {
   "cell_type": "markdown",
   "metadata": {
    "collapsed": true
   },
   "source": [
    "---\n",
    "## <span style=\"color:red\">Student Answer</span>\n",
    "\n",
    "*Double-click and add your answer between the lines*\n",
    "\n",
    "---"
   ]
  },
  {
   "cell_type": "markdown",
   "metadata": {},
   "source": [
    "### Signatures of Carcinogenic Substances\n",
    "Now, we will look at the signature of a chemical compound, benzo[a]pyrene. This chemical is found in coal tar and tobacco smoke. Its metabolite binds to DNA, which can cause eventual mutations. The mutational signature of benzo[a]pyrene was obtained by exposing DNA to benzo[a]pyrene in vitro, or outside of a living organism.\n",
    "\n",
    "\n",
    "Here, we will investigate the mutational signatures of benzo[a]pyrene and compare it to some of the signatures we have seen so far."
   ]
  },
  {
   "cell_type": "markdown",
   "metadata": {},
   "source": [
    "<h2 style=\"color:red\">** Question 22**:</h2> \n",
    "Plot the mutation distribution for the signature from benzoapyrene."
   ]
  },
  {
   "cell_type": "code",
   "execution_count": null,
   "metadata": {},
   "outputs": [],
   "source": [
    "# YOUR CODE HERE\n",
    "raise NotImplementedError()"
   ]
  },
  {
   "cell_type": "markdown",
   "metadata": {},
   "source": [
    "<h2 style=\"color:red\">** Question 23**:</h2> \n",
    "What type of mutationis the most prevalent for benzo[a]pyrene?"
   ]
  },
  {
   "cell_type": "markdown",
   "metadata": {
    "collapsed": true
   },
   "source": [
    "---\n",
    "## <span style=\"color:red\">Student Answer</span>\n",
    "\n",
    "*Double-click and add your answer between the lines*\n",
    "\n",
    "---"
   ]
  },
  {
   "cell_type": "markdown",
   "metadata": {},
   "source": [
    "<h2 style=\"color:red\">** Question 24**:</h2> \n",
    "Which of the signatures plotted does benzoqpyrene's signature most resemble? Explain why this signature is most similar to benzopyrene's signature."
   ]
  },
  {
   "cell_type": "markdown",
   "metadata": {
    "collapsed": true
   },
   "source": [
    "---\n",
    "## <span style=\"color:red\">Student Answer</span>\n",
    "\n",
    "*Double-click and add your answer between the lines*\n",
    "\n",
    "---"
   ]
  },
  {
   "cell_type": "code",
   "execution_count": null,
   "metadata": {},
   "outputs": [],
   "source": []
  }
 ],
 "metadata": {
  "kernelspec": {
   "display_name": "Python 3",
   "language": "python",
   "name": "python3"
  },
  "language_info": {
   "codemirror_mode": {
    "name": "ipython",
    "version": 3
   },
   "file_extension": ".py",
   "mimetype": "text/x-python",
   "name": "python",
   "nbconvert_exporter": "python",
   "pygments_lexer": "ipython3",
   "version": "3.6.1"
  }
 },
 "nbformat": 4,
 "nbformat_minor": 2
}
