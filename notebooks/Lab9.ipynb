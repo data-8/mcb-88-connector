{
 "cells": [
  {
   "cell_type": "markdown",
   "metadata": {},
   "source": [
    "# Lab 9: Immunotherapy Clinical Trials"
   ]
  },
  {
   "cell_type": "code",
   "execution_count": null,
   "metadata": {},
   "outputs": [],
   "source": [
    "# imports\n",
    "from datascience import Table\n",
    "import matplotlib\n",
    "matplotlib.use('Agg')\n",
    "from datascience import Table\n",
    "%matplotlib inline\n",
    "import matplotlib.pyplot as plt\n",
    "import numpy as np\n",
    "plt.style.use('fivethirtyeight')\n",
    "from sklearn.cluster import KMeans\n",
    "import pandas as pd"
   ]
  },
  {
   "cell_type": "markdown",
   "metadata": {},
   "source": [
    "Today, we will be investigating results from the paper 'Genomic correlates of response to CTLA-4 blockade in metastatic melanoma' by Van Allen et al, found here: https://www.ncbi.nlm.nih.gov/pubmed/26359337\n",
    "\n",
    "**This paper analyzes whole exome data from 110 patients with melanoma who were pretreated with ipilimumab. Ipilimumlab is an antibody that aids in the inhibition of CTLA-4, a check pointer in T cell differentiation.**\n",
    "\n",
    "The goal of this lab is to find relationships between a patient's response to drugs such as ipilimumab and their mutagen and neoantigen count in the exome.\n",
    "\n",
    "\n",
    "First, let's load in the data for this lab."
   ]
  },
  {
   "cell_type": "code",
   "execution_count": null,
   "metadata": {},
   "outputs": [],
   "source": [
    "# load in data for part 1\n",
    "patients = Table.read_table(\"https://raw.githubusercontent.com/data-8/mcb-88-connector/gh-pages/data/lab9/TableS2.Clinical_and_genome_characteristics_each_patient.csv\")\n",
    "\n",
    "patients"
   ]
  },
  {
   "cell_type": "markdown",
   "metadata": {},
   "source": [
    "In this table, we have data for 110 patients who were diagnosed with melanoma. \n",
    "\n",
    "\n",
    "For each patient, we will be looking at the following columns:\n",
    "- overall_survival: total survival time \n",
    "- progression_free: total survival time without tumor progression\n",
    "- neos500, neos250, neos100, neos50: number of neoantigens found of a certain length in the patient\n",
    "- hla.a1, hla.a2, hla.b1, hla.b2, hla.c1, hla.c2: HLA A, B and C alleles for each patient\n",
    "\n",
    "First, we will plot the overall survival times of all the patients against the progression free survival times.\n"
   ]
  },
  {
   "cell_type": "markdown",
   "metadata": {},
   "source": [
    "<h2 style=\"color:red\">** Question 1**:</h2> \n",
    "Plot the overall survival of patients against progression free survival of patients in a scatter plot. (Reference http://data8.org/datascience/tutorial.html#getting-started if you are unsure of how to make a scatter plot.) In this plot, you should plot the columns 'overall_survival' against 'progression_free'. Make sure to specify 'overall_survival' on the x-axis."
   ]
  },
  {
   "cell_type": "code",
   "execution_count": null,
   "metadata": {},
   "outputs": [],
   "source": [
    "# YOUR CODE HERE\n",
    "raise NotImplementedError()"
   ]
  },
  {
   "cell_type": "markdown",
   "metadata": {},
   "source": [
    "<h2 style=\"color:red\">** Question 2**:</h2> \n",
    "Ideally, if every patient had a positive response to the immunotherapy drug, how would this plot look (ie. what would be the shape of the plot)?"
   ]
  },
  {
   "cell_type": "markdown",
   "metadata": {},
   "source": [
    "---\n",
    "## <span style=\"color:red\">Student Answer</span>\n",
    "\n",
    "*Double-click and add your answer between the lines*\n",
    "\n",
    "---"
   ]
  },
  {
   "cell_type": "markdown",
   "metadata": {},
   "source": [
    "## Categories of Patient Responses\n",
    "\n",
    "For the next questions, we will be categorizing patients by their responses to the CTLA inhibiting drug. There are three categories we will be looking at. These categories are patients with:\n",
    "- Minimal to no benefit\n",
    "- Long-term survival with no clinical benefit\n",
    "- Clinical benefit\n",
    "\n",
    "\n",
    "### The RECIST Metric\n",
    "\n",
    "One of the metrics we will use to classify patients is RECIST, found in the table above. RECIST is a response evaluation for solid tumors. The RECIST classifications for each patient can be one of the following:\n",
    "- CR = complete response \n",
    "- PR = partial response \n",
    "- SD = stable disease\n",
    "- PD = progressive disease\n",
    "\n",
    "For more information on RECIST guidelines, please refer to https://ctep.cancer.gov/protocoldevelopment/docs/recist_guideline.pdf.\n",
    "\n",
    "The categories we will be grouping patients into are defined as follows:\n",
    "### Minimal to no benefit\n",
    "Individuals with minimal to no benefit are classified by the following criteria:\n",
    "- having RECIST criteria of PD \n",
    "- or overall_survival < 1 year and RECIST criteria of SD\n",
    "\n",
    "### Long-term survival with no clinical benefit\n",
    "Individuals with long-term survival with no clinical benefits are classified as having:\n",
    "- overall_survival > 2 years \n",
    "- and have early tumor progression < 6 months (progression_free < 6 months)\n",
    "\n",
    "### Clinical benefit\n",
    "Individuals with a clinical benefit had:\n",
    "- RECIST of CR or PR\n",
    "- or overall_survival > 1 year and RECIST criteria of SD\n",
    "\n",
    "\n",
    "Next, we will filter out patients into each of these three cohorts. We will filter out patients with clinical benefit as an example. You will filter out patients with long-term survival and minimal benefit as an exercise.\n"
   ]
  },
  {
   "cell_type": "code",
   "execution_count": null,
   "metadata": {},
   "outputs": [],
   "source": [
    "# First, we will convert our data to a dataframe (df) to make filtering easier. \n",
    "patients_df = patients.to_df()"
   ]
  },
  {
   "cell_type": "markdown",
   "metadata": {},
   "source": [
    "First, let's filter out patients with clinical benefit as an example. As stated above, the filtering criteria for this cohort is RECIST of CR or PR, or overall_survival > 1 year with RECIST criteria of SD."
   ]
  },
  {
   "cell_type": "code",
   "execution_count": null,
   "metadata": {},
   "outputs": [],
   "source": [
    "## We want to filter by wheather RECIST is CR or PR, or overall_survival > 1 year and RECIST is SD.\n",
    "# We write this filtering statement as:\n",
    "# (patients_df['RECIST'] == 'CR' | patients_df['RECIST'] == 'PR') | ((patients_df['overall_survival'] > 365) & (patients_df['RECIST'] == 'SD'))\n",
    "# Where (patients_df['RECIST'] == 'CR' | patients_df['RECIST'] == 'PR') checks if RECIST = CR or RECIST = PR\n",
    "# and ((patients_df['overall_survival'] > 365) & (patients_df['RECIST'] == 'SD')) checks if the patient survives\n",
    "# longer than 1 year and RECIST = SD\n",
    "##\n",
    "# Note that for filtering & means 'and' and | means 'or'\n",
    "\n",
    "benefit = patients_df[(patients_df['RECIST'] == 'CR') \n",
    "                      | (patients_df['RECIST'] == 'PR') \n",
    "                      | ((patients_df['overall_survival'] < 365) \n",
    "                         & (patients_df['RECIST'] == 'SD'))]\n",
    "\n",
    "benefit.head()"
   ]
  },
  {
   "cell_type": "markdown",
   "metadata": {},
   "source": [
    "<h2 style=\"color:red\">** Question 3**:</h2> \n",
    "Filter the patients in the long-term survival with no clinical benefit category. The criteria for filtering are listed above, and is as follows:\n",
    "overall_survival > 2 years and progression free survival < 6 months (say average month is 30 days)."
   ]
  },
  {
   "cell_type": "code",
   "execution_count": null,
   "metadata": {},
   "outputs": [],
   "source": [
    "# YOUR CODE HERE\n",
    "raise NotImplementedError()\n"
   ]
  },
  {
   "cell_type": "markdown",
   "metadata": {},
   "source": [
    "<h2 style=\"color:red\">** Question 4**:</h2> \n",
    "Filter the patients in the minimal to no benefit category. The criteria for filtering are listed above, and is as follows: RECIST = PD or overall_survival < 1 year and RECIST = SD."
   ]
  },
  {
   "cell_type": "code",
   "execution_count": null,
   "metadata": {},
   "outputs": [],
   "source": [
    "# YOUR CODE HERE\n",
    "raise NotImplementedError()\n",
    "\n"
   ]
  },
  {
   "cell_type": "markdown",
   "metadata": {},
   "source": [
    "<h2 style=\"color:red\">** Question 5**:</h2> \n",
    "    Print out how many individuals are in each of these three cohorts. (Hint: You can get the number of rows in a DataFrame by using the .shape on the dataframe and fetching the first dimension (i.e. df.shape[0]))."
   ]
  },
  {
   "cell_type": "code",
   "execution_count": null,
   "metadata": {},
   "outputs": [],
   "source": [
    "# YOUR CODE HERE\n",
    "raise NotImplementedError()\n"
   ]
  },
  {
   "cell_type": "markdown",
   "metadata": {},
   "source": [
    "## Investigation of mutation and neoantigen load across cohorts\n",
    "\n",
    "For the next part of the lab, we will be comparing the mutation and neoantigen load across the three cohorts we filtered by in the previous section. Our goal is to find whether certain cohorts have higher mutation and neoantigen rates.\n",
    "\n",
    "First, we will graph the mutation counts in a box plot across all three cohorts. As an exercise, you will then create a box plot of the neoantigen counts across cohorts.\n"
   ]
  },
  {
   "cell_type": "code",
   "execution_count": null,
   "metadata": {},
   "outputs": [],
   "source": [
    "# filter all three cohorts by the 'mutations' column\n",
    "frames = [minimal['mutations'], long_term['mutations'], benefit['mutations']]\n",
    "\n",
    "# merge the mutations column from all three cohorts together\n",
    "result = pd.concat(frames, axis=1)\n",
    "\n",
    "# rename the columns to match the cohort name. This will be displayed on the boxplot.\n",
    "result.columns = ['minimal', 'long_term', 'benefit']\n",
    "\n",
    "result.head()"
   ]
  },
  {
   "cell_type": "code",
   "execution_count": null,
   "metadata": {},
   "outputs": [],
   "source": [
    "# Now, plot the mutation load for each cohort. Make one box for each cohort.\n",
    "result.plot(kind='box', figsize=(6,8))\n",
    "plt.show()\n"
   ]
  },
  {
   "cell_type": "markdown",
   "metadata": {},
   "source": [
    "<h2 style=\"color:red\">** Question 6**:</h2> \n",
    "What is the name of the cohort with the highest median number of mutations?"
   ]
  },
  {
   "cell_type": "markdown",
   "metadata": {},
   "source": [
    "---\n",
    "## <span style=\"color:red\">Student Answer</span>\n",
    "\n",
    "*Double-click and add your answer between the lines*\n",
    "\n",
    "---"
   ]
  },
  {
   "cell_type": "markdown",
   "metadata": {},
   "source": [
    "<h2 style=\"color:red\">** Question 7**:</h2> \n",
    "Why do you think the group with the most mutations has a positive benefit from the CTLA-4 inhibiting drug?"
   ]
  },
  {
   "cell_type": "markdown",
   "metadata": {},
   "source": [
    "---\n",
    "## <span style=\"color:red\">Student Answer</span>\n",
    "\n",
    "*Double-click and add your answer between the lines*\n",
    "\n",
    "---"
   ]
  },
  {
   "cell_type": "markdown",
   "metadata": {
    "collapsed": true
   },
   "source": [
    "## Boxplots for Neoantigens\n",
    "\n",
    "Next, you will generate box plots for neoantigen counts for each cohort. As you can see in the dataset, we have neoantigen loads for neos500, neos250, neos100 and neos50. Each of these correspond to neoantigens within a specific binding affinity range. neos500 has the highest binding affinity, while neos50 has the lowest. Also from the table, you can see that each patient has their corresponding HLA alleles. These alleles were used to predict the binding affinity of mutated sequences for each of these neoantigen categories.\n",
    "\n"
   ]
  },
  {
   "cell_type": "markdown",
   "metadata": {},
   "source": [
    "<h2 style=\"color:red\">** Question 8**:</h2> \n",
    "Make a box plot that displays the counts of the neoantigens predicted to have the strongest binding affinity to their HLA molecules (found in the column neos500) for each cohort."
   ]
  },
  {
   "cell_type": "code",
   "execution_count": null,
   "metadata": {},
   "outputs": [],
   "source": [
    "# YOUR CODE HERE\n",
    "raise NotImplementedError()\n"
   ]
  },
  {
   "cell_type": "markdown",
   "metadata": {},
   "source": [
    "<h2 style=\"color:red\">** Question 9**:</h2> \n",
    "Which cohort has the highest median number of neoantigens?"
   ]
  },
  {
   "cell_type": "markdown",
   "metadata": {},
   "source": [
    "---\n",
    "## <span style=\"color:red\">Student Answer</span>\n",
    "\n",
    "*Double-click and add your answer between the lines*\n",
    "\n",
    "---\n"
   ]
  },
  {
   "cell_type": "markdown",
   "metadata": {},
   "source": [
    "<h2 style=\"color:red\">** Question 10**:</h2> \n",
    "Why would you expect this cohort to have the most neoantigens?"
   ]
  },
  {
   "cell_type": "markdown",
   "metadata": {},
   "source": [
    "---\n",
    "## <span style=\"color:red\">Student Answer</span>\n",
    "\n",
    "*Double-click and add your answer between the lines*\n",
    "\n",
    "---"
   ]
  },
  {
   "cell_type": "code",
   "execution_count": null,
   "metadata": {},
   "outputs": [],
   "source": []
  }
 ],
 "metadata": {
  "kernelspec": {
   "display_name": "Python 3",
   "language": "python",
   "name": "python3"
  },
  "language_info": {
   "codemirror_mode": {
    "name": "ipython",
    "version": 3
   },
   "file_extension": ".py",
   "mimetype": "text/x-python",
   "name": "python",
   "nbconvert_exporter": "python",
   "pygments_lexer": "ipython3",
   "version": "3.6.1"
  }
 },
 "nbformat": 4,
 "nbformat_minor": 2
}
