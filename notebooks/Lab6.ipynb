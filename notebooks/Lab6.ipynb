{
 "cells": [
  {
   "cell_type": "markdown",
   "metadata": {},
   "source": [
    "# Lab 6: Polymorphisms and Mutations"
   ]
  },
  {
   "cell_type": "markdown",
   "metadata": {},
   "source": [
    "In this lab, we will be comparing polymorphisms in two genes, HLA-A and H2A. HLA-A is an immune-related protein that is derived from the HLA-A gene, and is an MHC antigen. H2A is a histone protein, and helps in the stabalization of chromatin structure.\n",
    "\n",
    "Part 1 of the lab will involve following a tutorial using the UCSC Genome Browser. Part 2 of the lab will include answering coding questions in this notebook."
   ]
  },
  {
   "cell_type": "markdown",
   "metadata": {
    "collapsed": true
   },
   "source": [
    "## Import the Dependencies"
   ]
  },
  {
   "cell_type": "code",
   "execution_count": null,
   "metadata": {},
   "outputs": [],
   "source": [
    "# imports\n",
    "from datascience import Table\n",
    "import matplotlib\n",
    "matplotlib.use('Agg')\n",
    "from datascience import Table\n",
    "%matplotlib inline\n",
    "import matplotlib.pyplot as plt\n",
    "plt.style.use('fivethirtyeight')\n"
   ]
  },
  {
   "cell_type": "markdown",
   "metadata": {},
   "source": [
    "## Part 1: Exploring polymorphisms in the UCSC Genome Browser\n",
    "\n",
    "In this lab, we will use the UCSC Genome Browser to visualize polymorphisms in the HLA-A\n",
    "and H2A proteins. By the end of this lab, you will have a better understanding of sequence conservation\n",
    "and how conservation differs across proteins.\n",
    "\n",
    "### Exploring HLA-A\n",
    "\n",
    "First, we will learn about the HLA-A gene.\n",
    "\n",
    "\n",
    "1. To access the UCSC Genome Browser, go to <a href=\"http://genome.ucsc.edu/\" target=\"_blank\">UCSC Genome Browser</a>\n",
    "\n",
    "2. Under 'Popular Species' select **Human**. Under Human Assembly, select the Dec.2013 (GRCh38/hg38) genome build. Click **Go**.\n",
    "![UCSC Home Page](https://raw.githubusercontent.com/data-8/mcb-88-connector/gh-pages/images/lab6/ucscHomepage.png)\n",
    "\n",
    "3. Click on 'Genome Browser' under 'OurTools', highlighted in red in the image.\n",
    "![UCSC Human](https://raw.githubusercontent.com/data-8/mcb-88-connector/gh-pages/images/lab6/human_hg38.png)\n",
    "4. To reset the view and hide unused tracks, click the **hide all** button below the viewer.\n",
    "![Hide All](https://raw.githubusercontent.com/data-8/mcb-88-connector/gh-pages/images/lab6/hideAll.png)\n",
    "5. Type in **HLA-A** in the search bar, highlighted in red.\n",
    "![UCSC Gateway](https://raw.githubusercontent.com/data-8/mcb-88-connector/gh-pages/images/lab2/ucscGateway.png)\n",
    "6. Scroll down to the list of RefSeq Genes **Known Genes**, click on the option in which HLA-A is on chr6. This should\n",
    "redirect you back to the browser.\n",
    "![RefSeq HLA](https://raw.githubusercontent.com/data-8/mcb-88-connector/gh-pages/images/lab6/hla_refseq.png)\n",
    "7. In the HLA-A track, click on the label for HLA-A. This should redirect you to a new screen. Given the information\n",
    "on this screen, answer the following questions.\n",
    "![View HLA](https://raw.githubusercontent.com/data-8/mcb-88-connector/gh-pages/images/lab6/viewHLA.png)"
   ]
  },
  {
   "cell_type": "markdown",
   "metadata": {},
   "source": [
    "### Questions: Exploring HLA-A"
   ]
  },
  {
   "cell_type": "markdown",
   "metadata": {},
   "source": [
    "<h2 style=\"color:red\">** Question 1**</h2> \n",
    "What does 'HLA' stand for? **Note:** You may of to use external resources to find this.\n"
   ]
  },
  {
   "cell_type": "markdown",
   "metadata": {},
   "source": [
    "---\n",
    "## <span style=\"color:red\">Student Answer</span>\n",
    "\n",
    "*Double-click and add your answer between the lines*\n",
    "\n",
    "---"
   ]
  },
  {
   "cell_type": "markdown",
   "metadata": {},
   "source": [
    "<h2 style=\"color:red\">** Question 2**</h2> \n",
    "What is the location (chromosome and position) of HLA-A?"
   ]
  },
  {
   "cell_type": "markdown",
   "metadata": {},
   "source": [
    "---\n",
    "## <span style=\"color:red\">Student Answer</span>\n",
    "\n",
    "*Double-click and add your answer between the lines*\n",
    "\n",
    "---"
   ]
  },
  {
   "cell_type": "markdown",
   "metadata": {},
   "source": [
    "<h2 style=\"color:red\">** Question 3**</h2> \n",
    "How many base pairs long is HLA-A?\n"
   ]
  },
  {
   "cell_type": "markdown",
   "metadata": {},
   "source": [
    "---\n",
    "## <span style=\"color:red\">Student Answer</span>\n",
    "\n",
    "*Double-click and add your answer between the lines*\n",
    "\n",
    "---"
   ]
  },
  {
   "cell_type": "markdown",
   "metadata": {},
   "source": [
    "<h2 style=\"color:red\">** Question 4**</h2> \n",
    "How many exons does HLA-A have?\n",
    "\n"
   ]
  },
  {
   "cell_type": "markdown",
   "metadata": {},
   "source": [
    "---\n",
    "## <span style=\"color:red\">Student Answer</span>\n",
    "\n",
    "*Double-click and add your answer between the lines*\n",
    "\n",
    "---"
   ]
  },
  {
   "cell_type": "markdown",
   "metadata": {},
   "source": [
    "<h2 style=\"color:red\">** Question 5**</h2> \n",
    "Out of the exons, describe the peptides encoded by exons 1-7 for HLA-A. (e.g., exon 2 encodes for peptide ~BLANK~). This information can be found in **Summary of HLA-A**.\n"
   ]
  },
  {
   "cell_type": "markdown",
   "metadata": {},
   "source": [
    "---\n",
    "## <span style=\"color:red\">Student Answer</span>\n",
    "\n",
    "*Double-click and add your answer between the lines*\n",
    "\n",
    "---"
   ]
  },
  {
   "cell_type": "markdown",
   "metadata": {},
   "source": [
    "<h2 style=\"color:red\">** Question 6**</h2> \n",
    "What functional properties of HLA-A make it essecial to immune system response? **Note:** If you find that this page does not provide enough information\n",
    "on the HLA-A gene, you can use a cited external source. \n"
   ]
  },
  {
   "cell_type": "markdown",
   "metadata": {},
   "source": [
    "---\n",
    "## <span style=\"color:red\">Student Answer</span>\n",
    "\n",
    "*Double-click and add your answer between the lines*\n",
    "\n",
    "---"
   ]
  },
  {
   "cell_type": "markdown",
   "metadata": {},
   "source": [
    "Now, let's navigate back to the browser to explore variation of HLA-A.\n",
    "\n",
    "1. Navigate back to the Genome Browser viewer by clicking the back arrow.\n",
    "2. Scroll down to track options, below the visualization.\n",
    "3. Navigate to the Variation section.\n",
    "4. Toggle 'Common SNPs' and 'Flagged SNPs' to 'squish', as shown in the image.\n",
    "![variation](https://raw.githubusercontent.com/data-8/mcb-88-connector/gh-pages/images/lab6/toggle_variation.png)\n",
    "5. Scroll back up to the visualization to view HLA-A and associated SNPs."
   ]
  },
  {
   "cell_type": "markdown",
   "metadata": {},
   "source": [
    "### Questions: HLA-A SNP Density"
   ]
  },
  {
   "cell_type": "markdown",
   "metadata": {},
   "source": [
    "<h2 style=\"color:red\">** Question 7**</h2> \n",
    "What is a SNP? How can the presence of SNP's affect protein function?"
   ]
  },
  {
   "cell_type": "markdown",
   "metadata": {},
   "source": [
    "---\n",
    "## <span style=\"color:red\">Student Answer</span>\n",
    "\n",
    "*Double-click and add your answer between the lines*\n",
    "\n",
    "---"
   ]
  },
  {
   "cell_type": "markdown",
   "metadata": {},
   "source": [
    "<h2 style=\"color:red\">** Question 8**</h2> \n",
    "What is a common SNP? A flagged SNP? Click on the labels under the **Variation** section to gather this information."
   ]
  },
  {
   "cell_type": "markdown",
   "metadata": {},
   "source": [
    "---\n",
    "## <span style=\"color:red\">Student Answer</span>\n",
    "\n",
    "*Double-click and add your answer between the lines*\n",
    "\n",
    "---"
   ]
  },
  {
   "cell_type": "markdown",
   "metadata": {},
   "source": [
    "<h2 style=\"color:red\">** Question 9**</h2> \n",
    "Navigate back to the browser, if you are not already there. Make sure you are zoomed out so that you can see the whole HLA-A gene. In what areas to you see the highest density of SNPs?\n",
    "Is there any reasoning behind this SNP distribution?"
   ]
  },
  {
   "cell_type": "markdown",
   "metadata": {},
   "source": [
    "---\n",
    "## <span style=\"color:red\">Student Answer</span>\n",
    "\n",
    "*Double-click and add your answer between the lines*\n",
    "\n",
    "---"
   ]
  },
  {
   "cell_type": "markdown",
   "metadata": {},
   "source": [
    "<h2 style=\"color:red\">** Question 10**</h2> \n",
    "Do you see a greater density in any particular exons? If so, which two exons have the highest SNP density?"
   ]
  },
  {
   "cell_type": "markdown",
   "metadata": {},
   "source": [
    "---\n",
    "## <span style=\"color:red\">Student Answer</span>\n",
    "\n",
    "*Double-click and add your answer between the lines*\n",
    "\n",
    "---"
   ]
  },
  {
   "cell_type": "markdown",
   "metadata": {},
   "source": [
    "<h2 style=\"color:red\">** Question 11**</h2> \n",
    "Navigate to <a href=\"http://www.microbiologybook.org/bowers/mhc.htm\" target=\"_blank\">Microbiology Book</a> in a new tab, and find **Figure 2**. Read the caption and look at the Figure. Given what you know about HLA-A exons and their corresponding peptide domains, what can you say about the exons with the greatest SNP density and the function of the domains that they produce?"
   ]
  },
  {
   "cell_type": "markdown",
   "metadata": {},
   "source": [
    "---\n",
    "## <span style=\"color:red\">Student Answer</span>\n",
    "\n",
    "*Double-click and add your answer between the lines*\n",
    "\n",
    "---"
   ]
  },
  {
   "cell_type": "markdown",
   "metadata": {},
   "source": [
    "Now, navigate back to the UCSC Genome browser and zoom in to HLA-A and click on any clinically associated SNP in the 2nd or 3rd exon. This should take you to a new page.\n"
   ]
  },
  {
   "cell_type": "markdown",
   "metadata": {},
   "source": [
    "### Questions: HLA-A SNP Search"
   ]
  },
  {
   "cell_type": "markdown",
   "metadata": {},
   "source": [
    "<h2 style=\"color:red\">** Question 12**</h2> \n",
    "Let's get more information on the specific SNP you clicked on. What is the reference allele for this SNP? What is the position of this SNP?"
   ]
  },
  {
   "cell_type": "markdown",
   "metadata": {},
   "source": [
    "---\n",
    "## <span style=\"color:red\">Student Answer</span>\n",
    "\n",
    "*Double-click and add your answer between the lines*\n",
    "\n",
    "---"
   ]
  },
  {
   "cell_type": "markdown",
   "metadata": {},
   "source": [
    "<h2 style=\"color:red\">** Question 13**</h2> \n",
    "What, if any, is the **Function** of this SNP? What does this function mean?"
   ]
  },
  {
   "cell_type": "markdown",
   "metadata": {},
   "source": [
    "---\n",
    "## <span style=\"color:red\">Student Answer</span>\n",
    "\n",
    "*Double-click and add your answer between the lines*\n",
    "\n",
    "---"
   ]
  },
  {
   "cell_type": "markdown",
   "metadata": {},
   "source": [
    "### Exploring H2A.\n",
    "Now, we will explore gene H2A, or HIST3H2A.\n",
    "\n",
    "1. Navigate back to the Genome Browser Viewer by clicking the back button.\n",
    "1. Type in **HIST3H2A** in the search bar.\n",
    "5. In the resulting list of **Known Genes**, click on the **first** option, called HIST3H2A. This should redirect you back to the browser.\n",
    "6. In the new track, click on the label for HIST3H2A. This should redirect you to a new screen. Given the information on this screen, answer the following questions."
   ]
  },
  {
   "cell_type": "markdown",
   "metadata": {},
   "source": [
    "### Questions: Exploring H2A"
   ]
  },
  {
   "cell_type": "markdown",
   "metadata": {},
   "source": [
    "<h2 style=\"color:red\">** Question 14**</h2> \n",
    "What does 'HIST3H2A' stand for? **Note:** You may of to use external resources to find this."
   ]
  },
  {
   "cell_type": "markdown",
   "metadata": {},
   "source": [
    "---\n",
    "## <span style=\"color:red\">Student Answer</span>\n",
    "\n",
    "*Double-click and add your answer between the lines*\n",
    "\n",
    "---"
   ]
  },
  {
   "cell_type": "markdown",
   "metadata": {},
   "source": [
    "<h2 style=\"color:red\">** Question 15**</h2> \n",
    "What is the location (chromosome and position) of H2A?"
   ]
  },
  {
   "cell_type": "markdown",
   "metadata": {},
   "source": [
    "---\n",
    "## <span style=\"color:red\">Student Answer</span>\n",
    "\n",
    "*Double-click and add your answer between the lines*\n",
    "\n",
    "---"
   ]
  },
  {
   "cell_type": "markdown",
   "metadata": {},
   "source": [
    "<h2 style=\"color:red\">** Question 16**</h2> \n",
    "How long is the gene?"
   ]
  },
  {
   "cell_type": "markdown",
   "metadata": {},
   "source": [
    "---\n",
    "## <span style=\"color:red\">Student Answer</span>\n",
    "\n",
    "*Double-click and add your answer between the lines*\n",
    "\n",
    "---"
   ]
  },
  {
   "cell_type": "markdown",
   "metadata": {},
   "source": [
    "<h2 style=\"color:red\">** Question 17**</h2> \n",
    "Read the RefSeq Summary for H2A. What important roles does H2A play? **Note:** If this page does not provide enough information\n",
    "on the H2A gene, google to find more information."
   ]
  },
  {
   "cell_type": "markdown",
   "metadata": {},
   "source": [
    "---\n",
    "## <span style=\"color:red\">Student Answer</span>\n",
    "\n",
    "*Double-click and add your answer between the lines*\n",
    "\n",
    "---"
   ]
  },
  {
   "cell_type": "markdown",
   "metadata": {},
   "source": [
    "Now, let's navigate back to the browser to explore variation of H2A. Make sure that Common SNPs and Flagged SNPs are still being displayed. \n"
   ]
  },
  {
   "cell_type": "markdown",
   "metadata": {},
   "source": [
    "### Questions: H2A SNP Density\n",
    "\n",
    "Navigate back to the Genome Browser Viewer by clicking the back arrow in your browser.\n",
    "\n"
   ]
  },
  {
   "cell_type": "markdown",
   "metadata": {},
   "source": [
    "<h2 style=\"color:red\">** Question 18**</h2> \n",
    "Zoom out to see the whole H2A gene. In what areas, if any, to you see the highest density of SNPs?"
   ]
  },
  {
   "cell_type": "markdown",
   "metadata": {},
   "source": [
    "---\n",
    "## <span style=\"color:red\">Student Answer</span>\n",
    "\n",
    "*Double-click and add your answer between the lines*\n",
    "\n",
    "---"
   ]
  },
  {
   "cell_type": "markdown",
   "metadata": {},
   "source": [
    "<h2 style=\"color:red\">** Question 19**</h2> \n",
    "How does the SNP distribution in H2A compare to the distribution of HLA-A? What functional properties of these genes would cause this difference in SNP distributions?"
   ]
  },
  {
   "cell_type": "markdown",
   "metadata": {},
   "source": [
    "---\n",
    "## <span style=\"color:red\">Student Answer</span>\n",
    "\n",
    "*Double-click and add your answer between the lines*\n",
    "\n",
    "---"
   ]
  },
  {
   "cell_type": "markdown",
   "metadata": {},
   "source": [
    "# Part 2: Multiple Sequence Alignment of HLA-A sequences"
   ]
  },
  {
   "cell_type": "markdown",
   "metadata": {},
   "source": [
    "### Multiple Sequence Alignment of HLA-A sequences\n",
    "\n",
    "Now, we will align three different HLA-A sequences from different individuals. This requires a multiple sequence alignment (MSA) algorithm. We have applied an MSA alignment algorithm to these sequences for you. The algorithm we used is called T-coffee, and can be found here: http://tcoffee.vital-it.ch/apps/tcoffee/do:regular Here, you can use tcoffee to find the alignment between any number of sequences."
   ]
  },
  {
   "cell_type": "markdown",
   "metadata": {},
   "source": [
    "<h2 style=\"color:red\">** Question 20**</h2> \n",
    "\n",
    "Take a look at the T-coffee website (http://tcoffee.vital-it.ch/apps/tcoffee/references.html) and give a summary about what their algorithm does.\n"
   ]
  },
  {
   "cell_type": "markdown",
   "metadata": {},
   "source": [
    "---\n",
    "## <span style=\"color:red\">Student Answer</span>\n",
    "\n",
    "*Double-click and add your answer between the lines*\n",
    "\n",
    "---"
   ]
  },
  {
   "cell_type": "markdown",
   "metadata": {},
   "source": [
    "Now, let's load data for 3 HLA-A sequences to align."
   ]
  },
  {
   "cell_type": "code",
   "execution_count": null,
   "metadata": {},
   "outputs": [],
   "source": [
    "# load in sequence data for HLA-A\n",
    "# load in data\n",
    "table = Table.read_table('https://raw.githubusercontent.com/data-8/mcb-88-connector/gh-pages/data/lab6/hla-a_msa.csv')\n",
    "table\n"
   ]
  },
  {
   "cell_type": "markdown",
   "metadata": {},
   "source": [
    "For each of the aligned sequences, there is either a mismatch between the three sequences, or a dash ('-') that indicates an deletion in that sequence, or an insertion in the other sequences.\n",
    "\n",
    "Now, we will visualize the sequence differences, by counting the number differences at each location of the three sequences.\n",
    "\n",
    "First, we define a function, called getDifferenceVector() that returns the counts of differences between three sequences at each location."
   ]
  },
  {
   "cell_type": "code",
   "execution_count": null,
   "metadata": {},
   "outputs": [],
   "source": [
    "# Function that calculates the number of differences between three sequences. \n",
    "# Sequences must be the same length.\n",
    "def getDifferenceVector(seq1,seq2,seq3):\n",
    "    if len(seq1) != len(seq2) != len(seq3):\n",
    "        return('Error: the input strings are not of the same length.')\n",
    "    # create empty list to hold counts\n",
    "    counts = [0] * len(seq1)\n",
    "    index = [0] * len(seq1)\n",
    "    for i in range(len(seq1)):\n",
    "        if (seq1[i]!=seq2[i]):\n",
    "            counts[i]+=1\n",
    "        if (seq1[i]!=seq3[i]):\n",
    "            counts[i]+=1\n",
    "        if (seq2[i]!=seq3[i]):\n",
    "            counts[i]+=1\n",
    "        index[i] = i\n",
    "    return (index, counts)\n",
    "    "
   ]
  },
  {
   "cell_type": "markdown",
   "metadata": {},
   "source": [
    "Using this function, we will compute the differences between all three sequences and plot this difference vector."
   ]
  },
  {
   "cell_type": "markdown",
   "metadata": {},
   "source": [
    "<h2 style=\"color:red\">** Question 21**</h2> \n",
    "Fill in the blanks below to plot the difference vector across the three HLA-A sequences."
   ]
  },
  {
   "cell_type": "code",
   "execution_count": null,
   "metadata": {},
   "outputs": [],
   "source": [
    "# TODO: assign sequences seq1,seq2,seq3\n",
    "\n",
    "# YOUR CODE HERE\n",
    "raise NotImplementedError()\n",
    "\n",
    "(index, counts) = getDifferenceVector(seq1,seq2,seq3)\n",
    "plt.plot(index, counts)\n",
    "plt.ylabel('Differences')\n",
    "plt.xlabel('Position')\n",
    "\n",
    "plt.show()"
   ]
  },
  {
   "cell_type": "markdown",
   "metadata": {},
   "source": [
    "<h2 style=\"color:red\">** Question 22**</h2> \n",
    "How does this sample distribution of mismatches compare to the actual distribution for HLA-A we saw in the UCSC Genome Browser? Where in HLA-A do these locations of increased mismatches occur? Think about the exon positions and the variability of each exon.\n"
   ]
  },
  {
   "cell_type": "markdown",
   "metadata": {},
   "source": [
    "---\n",
    "## <span style=\"color:red\">Student Answer</span>\n",
    "\n",
    "*Double-click and add your answer between the lines*\n",
    "\n",
    "---"
   ]
  },
  {
   "cell_type": "markdown",
   "metadata": {},
   "source": [
    "<h2 style=\"color:red\">** Question 23**</h2> \n",
    "\n",
    "Based on the distribution of mismatches for these three sequences for HLA-A, how would you expect the mismatch distribution for H2A to look?"
   ]
  },
  {
   "cell_type": "markdown",
   "metadata": {},
   "source": [
    "---\n",
    "## <span style=\"color:red\">Student Answer</span>\n",
    "\n",
    "*Double-click and add your answer between the lines*\n",
    "\n",
    "---"
   ]
  },
  {
   "cell_type": "markdown",
   "metadata": {},
   "source": [
    "# Part 3: Extra for Experts"
   ]
  },
  {
   "cell_type": "markdown",
   "metadata": {},
   "source": [
    "<h2 style=\"color:red\">** Bonus Question 1**</h2> \n",
    "\n",
    "Choose a SNP overlapping HLA-A from the UCSC Genome Browser (This can be the same SNP you chose in part 1 of the lab.) Record the dbSNP name.  Does this SNP appear in any of the sequences above? How can you verify this? (Hint: This will require coding)"
   ]
  },
  {
   "cell_type": "code",
   "execution_count": null,
   "metadata": {},
   "outputs": [],
   "source": [
    "# YOUR CODE HERE\n",
    "raise NotImplementedError()"
   ]
  },
  {
   "cell_type": "code",
   "execution_count": null,
   "metadata": {},
   "outputs": [],
   "source": []
  }
 ],
 "metadata": {
  "kernelspec": {
   "display_name": "Python 3",
   "language": "python",
   "name": "python3"
  },
  "language_info": {
   "codemirror_mode": {
    "name": "ipython",
    "version": 3
   },
   "file_extension": ".py",
   "mimetype": "text/x-python",
   "name": "python",
   "nbconvert_exporter": "python",
   "pygments_lexer": "ipython3",
   "version": "3.6.1"
  }
 },
 "nbformat": 4,
 "nbformat_minor": 1
}
